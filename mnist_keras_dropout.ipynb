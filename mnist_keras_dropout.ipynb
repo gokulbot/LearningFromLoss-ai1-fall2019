{
  "nbformat": 4,
  "nbformat_minor": 0,
  "metadata": {
    "colab": {
      "name": "mnist-keras-dropout.ipynb",
      "provenance": [],
      "include_colab_link": true
    },
    "kernelspec": {
      "name": "python3",
      "display_name": "Python 3"
    },
    "accelerator": "GPU"
  },
  "cells": [
    {
      "cell_type": "markdown",
      "metadata": {
        "id": "view-in-github",
        "colab_type": "text"
      },
      "source": [
        "<a href=\"https://colab.research.google.com/github/gokulbot/LearningFromLoss-ai1-fall2019/blob/master/mnist_keras_dropout.ipynb\" target=\"_parent\"><img src=\"https://colab.research.google.com/assets/colab-badge.svg\" alt=\"Open In Colab\"/></a>"
      ]
    },
    {
      "cell_type": "code",
      "metadata": {
        "id": "CdKS3udN0Q5J",
        "colab_type": "code",
        "outputId": "d2381c9c-f223-42b8-90a1-9c5153ee780a",
        "colab": {
          "base_uri": "https://localhost:8080/",
          "height": 1000
        }
      },
      "source": [
        "!pip install wandb"
      ],
      "execution_count": 0,
      "outputs": [
        {
          "output_type": "stream",
          "text": [
            "Collecting wandb\n",
            "\u001b[?25l  Downloading https://files.pythonhosted.org/packages/46/7b/7d381b5c8345bb5c66bed293281d5c72f173027298e755b2ff2ed9971839/wandb-0.8.12-py2.py3-none-any.whl (1.3MB)\n",
            "\u001b[K     |████████████████████████████████| 1.3MB 2.8MB/s \n",
            "\u001b[?25hCollecting python-dateutil>=2.6.1 (from wandb)\n",
            "\u001b[?25l  Downloading https://files.pythonhosted.org/packages/41/17/c62faccbfbd163c7f57f3844689e3a78bae1f403648a6afb1d0866d87fbb/python_dateutil-2.8.0-py2.py3-none-any.whl (226kB)\n",
            "\u001b[K     |████████████████████████████████| 235kB 51.4MB/s \n",
            "\u001b[?25hCollecting gql>=0.1.0 (from wandb)\n",
            "  Downloading https://files.pythonhosted.org/packages/aa/9c/2933b7791210e00f5c26a6243198cc03af9132c29cf85e4c22cb007f171e/gql-0.1.0.tar.gz\n",
            "Collecting watchdog>=0.8.3 (from wandb)\n",
            "\u001b[?25l  Downloading https://files.pythonhosted.org/packages/bb/e3/5a55d48a29300160779f0a0d2776d17c1b762a2039b36de528b093b87d5b/watchdog-0.9.0.tar.gz (85kB)\n",
            "\u001b[K     |████████████████████████████████| 92kB 26.7MB/s \n",
            "\u001b[?25hCollecting GitPython>=1.0.0 (from wandb)\n",
            "\u001b[?25l  Downloading https://files.pythonhosted.org/packages/8e/c7/70bd352e8a561a9b6d1cde9aa313b9d7c871b0c94c3821f44c01f3187e1d/GitPython-3.0.2-py3-none-any.whl (453kB)\n",
            "\u001b[K     |████████████████████████████████| 460kB 42.8MB/s \n",
            "\u001b[?25hCollecting docker-pycreds>=0.4.0 (from wandb)\n",
            "  Downloading https://files.pythonhosted.org/packages/f5/e8/f6bd1eee09314e7e6dee49cbe2c5e22314ccdb38db16c9fc72d2fa80d054/docker_pycreds-0.4.0-py2.py3-none-any.whl\n",
            "Requirement already satisfied: Click>=7.0 in /usr/local/lib/python3.6/dist-packages (from wandb) (7.0)\n",
            "Collecting sentry-sdk>=0.4.0 (from wandb)\n",
            "\u001b[?25l  Downloading https://files.pythonhosted.org/packages/cf/c2/845d503adb168fcd276a54ac7e5a4fab18d8ed83cf8ad8fba6599eb6ca9c/sentry_sdk-0.12.2-py2.py3-none-any.whl (84kB)\n",
            "\u001b[K     |████████████████████████████████| 92kB 29.4MB/s \n",
            "\u001b[?25hRequirement already satisfied: nvidia-ml-py3>=7.352.0 in /usr/local/lib/python3.6/dist-packages (from wandb) (7.352.0)\n",
            "Collecting subprocess32>=3.5.3 (from wandb)\n",
            "\u001b[?25l  Downloading https://files.pythonhosted.org/packages/32/c8/564be4d12629b912ea431f1a50eb8b3b9d00f1a0b1ceff17f266be190007/subprocess32-3.5.4.tar.gz (97kB)\n",
            "\u001b[K     |████████████████████████████████| 102kB 30.7MB/s \n",
            "\u001b[?25hRequirement already satisfied: six>=1.10.0 in /usr/local/lib/python3.6/dist-packages (from wandb) (1.12.0)\n",
            "Requirement already satisfied: psutil>=5.0.0 in /usr/local/lib/python3.6/dist-packages (from wandb) (5.4.8)\n",
            "Collecting configparser>=3.8.1 (from wandb)\n",
            "  Downloading https://files.pythonhosted.org/packages/7a/2a/95ed0501cf5d8709490b1d3a3f9b5cf340da6c433f896bbe9ce08dbe6785/configparser-4.0.2-py2.py3-none-any.whl\n",
            "Collecting shortuuid>=0.5.0 (from wandb)\n",
            "  Downloading https://files.pythonhosted.org/packages/80/d7/2bfc9332e68d3e15ea97b9b1588b3899ad565120253d3fd71c8f7f13b4fe/shortuuid-0.5.0.tar.gz\n",
            "Requirement already satisfied: requests>=2.0.0 in /usr/local/lib/python3.6/dist-packages (from wandb) (2.21.0)\n",
            "Collecting graphql-core>=0.5.0 (from gql>=0.1.0->wandb)\n",
            "\u001b[?25l  Downloading https://files.pythonhosted.org/packages/6a/11/bc4a7eb440124271289d93e4d208bd07d94196038fabbe2a52435a07d3d3/graphql_core-2.2.1-py2.py3-none-any.whl (250kB)\n",
            "\u001b[K     |████████████████████████████████| 256kB 35.8MB/s \n",
            "\u001b[?25hRequirement already satisfied: promise>=0.4.0 in /usr/local/lib/python3.6/dist-packages (from gql>=0.1.0->wandb) (2.2.1)\n",
            "Requirement already satisfied: PyYAML>=3.10 in /usr/local/lib/python3.6/dist-packages (from watchdog>=0.8.3->wandb) (3.13)\n",
            "Collecting argh>=0.24.1 (from watchdog>=0.8.3->wandb)\n",
            "  Downloading https://files.pythonhosted.org/packages/06/1c/e667a7126f0b84aaa1c56844337bf0ac12445d1beb9c8a6199a7314944bf/argh-0.26.2-py2.py3-none-any.whl\n",
            "Collecting pathtools>=0.1.1 (from watchdog>=0.8.3->wandb)\n",
            "  Downloading https://files.pythonhosted.org/packages/e7/7f/470d6fcdf23f9f3518f6b0b76be9df16dcc8630ad409947f8be2eb0ed13a/pathtools-0.1.2.tar.gz\n",
            "Collecting gitdb2>=2.0.0 (from GitPython>=1.0.0->wandb)\n",
            "\u001b[?25l  Downloading https://files.pythonhosted.org/packages/03/6c/99296f89bad2ef85626e1df9f677acbee8885bb043ad82ad3ed4746d2325/gitdb2-2.0.6-py2.py3-none-any.whl (63kB)\n",
            "\u001b[K     |████████████████████████████████| 71kB 25.5MB/s \n",
            "\u001b[?25hRequirement already satisfied: urllib3>=1.9 in /usr/local/lib/python3.6/dist-packages (from sentry-sdk>=0.4.0->wandb) (1.24.3)\n",
            "Requirement already satisfied: certifi in /usr/local/lib/python3.6/dist-packages (from sentry-sdk>=0.4.0->wandb) (2019.6.16)\n",
            "Requirement already satisfied: chardet<3.1.0,>=3.0.2 in /usr/local/lib/python3.6/dist-packages (from requests>=2.0.0->wandb) (3.0.4)\n",
            "Requirement already satisfied: idna<2.9,>=2.5 in /usr/local/lib/python3.6/dist-packages (from requests>=2.0.0->wandb) (2.8)\n",
            "Collecting rx<3,>=1.6 (from graphql-core>=0.5.0->gql>=0.1.0->wandb)\n",
            "\u001b[?25l  Downloading https://files.pythonhosted.org/packages/33/0f/5ef4ac78e2a538cc1b054eb86285fe0bf7a5dbaeaac2c584757c300515e2/Rx-1.6.1-py2.py3-none-any.whl (179kB)\n",
            "\u001b[K     |████████████████████████████████| 184kB 33.0MB/s \n",
            "\u001b[?25hCollecting smmap2>=2.0.0 (from gitdb2>=2.0.0->GitPython>=1.0.0->wandb)\n",
            "  Downloading https://files.pythonhosted.org/packages/55/d2/866d45e3a121ee15a1dc013824d58072fd5c7799c9c34d01378eb262ca8f/smmap2-2.0.5-py2.py3-none-any.whl\n",
            "Building wheels for collected packages: gql, watchdog, subprocess32, shortuuid, pathtools\n",
            "  Building wheel for gql (setup.py) ... \u001b[?25l\u001b[?25hdone\n",
            "  Created wheel for gql: filename=gql-0.1.0-cp36-none-any.whl size=5541 sha256=e1f7975e4dc43b29840df55660c42c30cc2962874a3fa5985cd0a21a5de3d0bf\n",
            "  Stored in directory: /root/.cache/pip/wheels/a7/8d/65/a3247f500d675d80a01e4d2f0ee44fe99f1faef575bc2a1664\n",
            "  Building wheel for watchdog (setup.py) ... \u001b[?25l\u001b[?25hdone\n",
            "  Created wheel for watchdog: filename=watchdog-0.9.0-cp36-none-any.whl size=73652 sha256=a988bf79a117026d314951cce4eaeef29d029c9e41744f0d75cfcfbc8f07dcfd\n",
            "  Stored in directory: /root/.cache/pip/wheels/61/1d/d0/04cfe495619be2095eb8d89a31c42adb4e42b76495bc8f784c\n",
            "  Building wheel for subprocess32 (setup.py) ... \u001b[?25l\u001b[?25hdone\n",
            "  Created wheel for subprocess32: filename=subprocess32-3.5.4-cp36-none-any.whl size=6489 sha256=3d1caa3d9214fee5082cb1a0cfe9b5f96833be537d75a836476e7a0c74bb7e73\n",
            "  Stored in directory: /root/.cache/pip/wheels/68/39/1a/5e402bdfdf004af1786c8b853fd92f8c4a04f22aad179654d1\n",
            "  Building wheel for shortuuid (setup.py) ... \u001b[?25l\u001b[?25hdone\n",
            "  Created wheel for shortuuid: filename=shortuuid-0.5.0-cp36-none-any.whl size=5499 sha256=0046fd3a8d95b443ea7262406b044ad9c74a02334f40e510e3c949bd7ffdf1d9\n",
            "  Stored in directory: /root/.cache/pip/wheels/3f/eb/fd/69e5177f67b505e44acbd1aedfbe44b91768ee0c4cd5636576\n",
            "  Building wheel for pathtools (setup.py) ... \u001b[?25l\u001b[?25hdone\n",
            "  Created wheel for pathtools: filename=pathtools-0.1.2-cp36-none-any.whl size=8786 sha256=4ea5a25de8343cbe8a3c1cb77ee95b2b684602a338d10579bb2d617af5bd61e9\n",
            "  Stored in directory: /root/.cache/pip/wheels/0b/04/79/c3b0c3a0266a3cb4376da31e5bfe8bba0c489246968a68e843\n",
            "Successfully built gql watchdog subprocess32 shortuuid pathtools\n",
            "\u001b[31mERROR: albumentations 0.1.12 has requirement imgaug<0.2.7,>=0.2.5, but you'll have imgaug 0.2.9 which is incompatible.\u001b[0m\n",
            "Installing collected packages: python-dateutil, rx, graphql-core, gql, argh, pathtools, watchdog, smmap2, gitdb2, GitPython, docker-pycreds, sentry-sdk, subprocess32, configparser, shortuuid, wandb\n",
            "  Found existing installation: python-dateutil 2.5.3\n",
            "    Uninstalling python-dateutil-2.5.3:\n",
            "      Successfully uninstalled python-dateutil-2.5.3\n",
            "Successfully installed GitPython-3.0.2 argh-0.26.2 configparser-4.0.2 docker-pycreds-0.4.0 gitdb2-2.0.6 gql-0.1.0 graphql-core-2.2.1 pathtools-0.1.2 python-dateutil-2.8.0 rx-1.6.1 sentry-sdk-0.12.2 shortuuid-0.5.0 smmap2-2.0.5 subprocess32-3.5.4 wandb-0.8.12 watchdog-0.9.0\n"
          ],
          "name": "stdout"
        },
        {
          "output_type": "display_data",
          "data": {
            "application/vnd.colab-display-data+json": {
              "pip_warning": {
                "packages": [
                  "dateutil"
                ]
              }
            }
          },
          "metadata": {
            "tags": []
          }
        }
      ]
    },
    {
      "cell_type": "code",
      "metadata": {
        "id": "0PQFgcr-1ixF",
        "colab_type": "code",
        "outputId": "e029754c-b93c-49e4-ae34-bd4886d99bb1",
        "colab": {
          "base_uri": "https://localhost:8080/",
          "height": 121
        }
      },
      "source": [
        "# from wandb classes\n",
        "import numpy\n",
        "from keras.datasets import mnist\n",
        "from keras.models import Sequential\n",
        "from keras.layers import Dense, Flatten, Dropout\n",
        "from keras.utils import np_utils\n",
        "import json\n",
        "\n",
        "from wandb.keras import WandbCallback\n",
        "import wandb\n",
        "\n",
        "run = wandb.init()"
      ],
      "execution_count": 0,
      "outputs": [
        {
          "output_type": "display_data",
          "data": {
            "application/javascript": [
              "\n",
              "        window._wandbApiKey = new Promise((resolve, reject) => {\n",
              "            function loadScript(url) {\n",
              "            return new Promise(function(resolve, reject) {\n",
              "                let newScript = document.createElement(\"script\");\n",
              "                newScript.onerror = reject;\n",
              "                newScript.onload = resolve;\n",
              "                document.body.appendChild(newScript);\n",
              "                newScript.src = url;\n",
              "            });\n",
              "            }\n",
              "            loadScript(\"https://cdn.jsdelivr.net/npm/postmate/build/postmate.min.js\").then(() => {\n",
              "            const iframe = document.createElement('iframe')\n",
              "            iframe.style.cssText = \"width:0;height:0;border:none\"\n",
              "            document.body.appendChild(iframe)\n",
              "            const handshake = new Postmate({\n",
              "                container: iframe,\n",
              "                url: 'https://app.wandb.ai/authorize'\n",
              "            });\n",
              "            const timeout = setTimeout(() => reject(\"Couldn't auto authenticate\"), 5000)\n",
              "            handshake.then(function(child) {\n",
              "                child.on('authorize', data => {\n",
              "                    clearTimeout(timeout)\n",
              "                    resolve(data)\n",
              "                });\n",
              "            });\n",
              "            })\n",
              "        });\n",
              "    "
            ],
            "text/plain": [
              "<IPython.core.display.Javascript object>"
            ]
          },
          "metadata": {
            "tags": []
          }
        },
        {
          "output_type": "stream",
          "text": [
            "wandb: ERROR Not authenticated.  Copy a key from https://app.wandb.ai/authorize\n"
          ],
          "name": "stderr"
        },
        {
          "output_type": "stream",
          "text": [
            "API Key: ··········\n"
          ],
          "name": "stdout"
        },
        {
          "output_type": "stream",
          "text": [
            "wandb: Appending key for api.wandb.ai to your netrc file: /root/.netrc\n"
          ],
          "name": "stderr"
        },
        {
          "output_type": "display_data",
          "data": {
            "text/html": [
              "\n",
              "            Notebook configured with <a href=\"https://wandb.com\" target=\"_blank\">W&B</a>. You can <a href=\"https://app.wandb.ai/univai-ss2019/uncategorized/runs/j36baag1\" target=\"_blank\">open</a> the run page, or call <code>%%wandb</code>\n",
              "            in a cell containing your training loop to display live results.  Learn more in our <a href=\"https://docs.wandb.com/docs/integrations/jupyter.html\" target=\"_blank\">docs</a>.\n",
              "        "
            ],
            "text/plain": [
              "<IPython.core.display.HTML object>"
            ]
          },
          "metadata": {
            "tags": []
          }
        }
      ]
    },
    {
      "cell_type": "code",
      "metadata": {
        "id": "2a0ivsBp0Ymz",
        "colab_type": "code",
        "outputId": "ff6c56a1-36cf-4914-f3a8-7340f15a2917",
        "colab": {
          "base_uri": "https://localhost:8080/",
          "height": 1000
        }
      },
      "source": [
        "run = wandb.init()\n",
        "config = run.config\n",
        "config.optimizer = \"adam\"\n",
        "config.epochs = 50\n",
        "config.dropout = 0.3\n",
        "config.hidden_nodes = 100\n",
        "\n",
        "# load data\n",
        "(X_train, y_train), (X_test, y_test) = mnist.load_data()\n",
        "img_width = X_train.shape[1]\n",
        "img_height = X_train.shape[2]\n",
        "\n",
        "X_train = X_train.astype('float32')\n",
        "X_train /= 255.\n",
        "X_test = X_test.astype('float32')\n",
        "X_test /= 255.\n",
        "\n",
        "# one hot encode outputs\n",
        "y_train = np_utils.to_categorical(y_train)\n",
        "y_test = np_utils.to_categorical(y_test)\n",
        "labels = range(10)\n",
        "\n",
        "num_classes = y_train.shape[1]\n",
        "\n",
        "# create model\n",
        "model=Sequential()\n",
        "model.add(Flatten(input_shape=(img_width,img_height)))\n",
        "model.add(Dropout(config.dropout))\n",
        "model.add(Dense(config.hidden_nodes, activation='relu'))\n",
        "#model.add(Dropout(config.dropout))\n",
        "model.add(Dense(num_classes, activation='softmax'))\n",
        "model.compile(loss='categorical_crossentropy', optimizer=config.optimizer,\n",
        "                    metrics=['accuracy'])\n",
        "\n",
        "\n",
        "# Fit the model\n",
        "model.fit(X_train, y_train, validation_data=(X_test, y_test),\n",
        "        epochs=config.epochs, callbacks=[WandbCallback(data_type=\"image\", labels=labels)])"
      ],
      "execution_count": 0,
      "outputs": [
        {
          "output_type": "display_data",
          "data": {
            "text/html": [
              "\n",
              "            Notebook configured with <a href=\"https://wandb.com\" target=\"_blank\">W&B</a>. You can <a href=\"https://app.wandb.ai/univai-ss2019/uncategorized/runs/k2wefrwx\" target=\"_blank\">open</a> the run page, or call <code>%%wandb</code>\n",
              "            in a cell containing your training loop to display live results.  Learn more in our <a href=\"https://docs.wandb.com/docs/integrations/jupyter.html\" target=\"_blank\">docs</a>.\n",
              "        "
            ],
            "text/plain": [
              "<IPython.core.display.HTML object>"
            ]
          },
          "metadata": {
            "tags": []
          }
        },
        {
          "output_type": "stream",
          "text": [
            "Train on 60000 samples, validate on 10000 samples\n",
            "Epoch 1/50\n",
            "60000/60000 [==============================] - 9s 156us/step - loss: 0.3453 - acc: 0.8981 - val_loss: 0.1705 - val_acc: 0.9508\n",
            "Epoch 2/50\n",
            "60000/60000 [==============================] - 9s 152us/step - loss: 0.1819 - acc: 0.9455 - val_loss: 0.1220 - val_acc: 0.9635\n",
            "Epoch 3/50\n",
            "60000/60000 [==============================] - 9s 152us/step - loss: 0.1414 - acc: 0.9565 - val_loss: 0.1016 - val_acc: 0.9694\n",
            "Epoch 4/50\n",
            "60000/60000 [==============================] - 9s 153us/step - loss: 0.1201 - acc: 0.9623 - val_loss: 0.0913 - val_acc: 0.9727\n",
            "Epoch 5/50\n",
            "60000/60000 [==============================] - 9s 151us/step - loss: 0.1037 - acc: 0.9673 - val_loss: 0.0822 - val_acc: 0.9738\n",
            "Epoch 6/50\n",
            "60000/60000 [==============================] - 9s 152us/step - loss: 0.0950 - acc: 0.9696 - val_loss: 0.0854 - val_acc: 0.9746\n",
            "Epoch 7/50\n",
            "60000/60000 [==============================] - 9s 151us/step - loss: 0.0875 - acc: 0.9725 - val_loss: 0.0769 - val_acc: 0.9756\n",
            "Epoch 8/50\n",
            "60000/60000 [==============================] - 9s 152us/step - loss: 0.0823 - acc: 0.9731 - val_loss: 0.0854 - val_acc: 0.9747\n",
            "Epoch 9/50\n",
            "60000/60000 [==============================] - 9s 151us/step - loss: 0.0757 - acc: 0.9757 - val_loss: 0.0769 - val_acc: 0.9757\n",
            "Epoch 10/50\n",
            "60000/60000 [==============================] - 9s 152us/step - loss: 0.0754 - acc: 0.9757 - val_loss: 0.0725 - val_acc: 0.9780\n",
            "Epoch 11/50\n",
            "60000/60000 [==============================] - 9s 157us/step - loss: 0.0693 - acc: 0.9776 - val_loss: 0.0688 - val_acc: 0.9789\n",
            "Epoch 12/50\n",
            "60000/60000 [==============================] - 9s 152us/step - loss: 0.0647 - acc: 0.9788 - val_loss: 0.0718 - val_acc: 0.9786\n",
            "Epoch 13/50\n",
            "60000/60000 [==============================] - 9s 150us/step - loss: 0.0636 - acc: 0.9782 - val_loss: 0.0686 - val_acc: 0.9790\n",
            "Epoch 14/50\n",
            "60000/60000 [==============================] - 9s 148us/step - loss: 0.0624 - acc: 0.9799 - val_loss: 0.0674 - val_acc: 0.9788\n",
            "Epoch 15/50\n",
            "60000/60000 [==============================] - 9s 154us/step - loss: 0.0587 - acc: 0.9802 - val_loss: 0.0725 - val_acc: 0.9778\n",
            "Epoch 16/50\n",
            "60000/60000 [==============================] - 9s 150us/step - loss: 0.0579 - acc: 0.9804 - val_loss: 0.0680 - val_acc: 0.9796\n",
            "Epoch 17/50\n",
            "60000/60000 [==============================] - 9s 152us/step - loss: 0.0558 - acc: 0.9817 - val_loss: 0.0624 - val_acc: 0.9818\n",
            "Epoch 18/50\n",
            "60000/60000 [==============================] - 9s 149us/step - loss: 0.0559 - acc: 0.9816 - val_loss: 0.0671 - val_acc: 0.9788\n",
            "Epoch 19/50\n",
            "60000/60000 [==============================] - 9s 150us/step - loss: 0.0537 - acc: 0.9827 - val_loss: 0.0661 - val_acc: 0.9814\n",
            "Epoch 20/50\n",
            "60000/60000 [==============================] - 9s 150us/step - loss: 0.0499 - acc: 0.9829 - val_loss: 0.0665 - val_acc: 0.9792\n",
            "Epoch 21/50\n",
            "60000/60000 [==============================] - 9s 151us/step - loss: 0.0503 - acc: 0.9838 - val_loss: 0.0651 - val_acc: 0.9814\n",
            "Epoch 22/50\n",
            "60000/60000 [==============================] - 9s 148us/step - loss: 0.0498 - acc: 0.9833 - val_loss: 0.0693 - val_acc: 0.9795\n",
            "Epoch 23/50\n",
            "60000/60000 [==============================] - 9s 151us/step - loss: 0.0468 - acc: 0.9839 - val_loss: 0.0702 - val_acc: 0.9805\n",
            "Epoch 24/50\n",
            "60000/60000 [==============================] - 9s 150us/step - loss: 0.0481 - acc: 0.9839 - val_loss: 0.0692 - val_acc: 0.9810\n",
            "Epoch 25/50\n",
            "60000/60000 [==============================] - 9s 151us/step - loss: 0.0485 - acc: 0.9839 - val_loss: 0.0697 - val_acc: 0.9810\n",
            "Epoch 26/50\n",
            "60000/60000 [==============================] - 9s 152us/step - loss: 0.0459 - acc: 0.9849 - val_loss: 0.0700 - val_acc: 0.9815\n",
            "Epoch 27/50\n",
            "60000/60000 [==============================] - 9s 149us/step - loss: 0.0450 - acc: 0.9850 - val_loss: 0.0685 - val_acc: 0.9809\n",
            "Epoch 28/50\n",
            "60000/60000 [==============================] - 9s 149us/step - loss: 0.0454 - acc: 0.9848 - val_loss: 0.0710 - val_acc: 0.9817\n",
            "Epoch 29/50\n",
            "60000/60000 [==============================] - 9s 148us/step - loss: 0.0451 - acc: 0.9849 - val_loss: 0.0709 - val_acc: 0.9810\n",
            "Epoch 30/50\n",
            "60000/60000 [==============================] - 9s 150us/step - loss: 0.0427 - acc: 0.9861 - val_loss: 0.0719 - val_acc: 0.9806\n",
            "Epoch 31/50\n",
            "60000/60000 [==============================] - 9s 150us/step - loss: 0.0447 - acc: 0.9852 - val_loss: 0.0694 - val_acc: 0.9812\n",
            "Epoch 32/50\n",
            "60000/60000 [==============================] - 9s 148us/step - loss: 0.0426 - acc: 0.9858 - val_loss: 0.0731 - val_acc: 0.9814\n",
            "Epoch 33/50\n",
            "60000/60000 [==============================] - 9s 147us/step - loss: 0.0442 - acc: 0.9853 - val_loss: 0.0690 - val_acc: 0.9821\n",
            "Epoch 34/50\n",
            "60000/60000 [==============================] - 9s 149us/step - loss: 0.0418 - acc: 0.9859 - val_loss: 0.0685 - val_acc: 0.9814\n",
            "Epoch 35/50\n",
            "60000/60000 [==============================] - 9s 150us/step - loss: 0.0418 - acc: 0.9857 - val_loss: 0.0755 - val_acc: 0.9809\n",
            "Epoch 36/50\n",
            "60000/60000 [==============================] - 9s 149us/step - loss: 0.0413 - acc: 0.9859 - val_loss: 0.0679 - val_acc: 0.9820\n",
            "Epoch 37/50\n",
            "60000/60000 [==============================] - 9s 150us/step - loss: 0.0400 - acc: 0.9863 - val_loss: 0.0734 - val_acc: 0.9814\n",
            "Epoch 38/50\n",
            "60000/60000 [==============================] - 9s 150us/step - loss: 0.0405 - acc: 0.9871 - val_loss: 0.0748 - val_acc: 0.9799\n",
            "Epoch 39/50\n",
            "60000/60000 [==============================] - 9s 151us/step - loss: 0.0408 - acc: 0.9863 - val_loss: 0.0715 - val_acc: 0.9814\n",
            "Epoch 40/50\n",
            "60000/60000 [==============================] - 9s 150us/step - loss: 0.0384 - acc: 0.9871 - val_loss: 0.0791 - val_acc: 0.9798\n",
            "Epoch 41/50\n",
            "60000/60000 [==============================] - 9s 149us/step - loss: 0.0403 - acc: 0.9870 - val_loss: 0.0777 - val_acc: 0.9806\n",
            "Epoch 42/50\n",
            "60000/60000 [==============================] - 9s 150us/step - loss: 0.0420 - acc: 0.9862 - val_loss: 0.0748 - val_acc: 0.9814\n",
            "Epoch 43/50\n",
            "60000/60000 [==============================] - 9s 149us/step - loss: 0.0384 - acc: 0.9874 - val_loss: 0.0759 - val_acc: 0.9820\n",
            "Epoch 44/50\n",
            "60000/60000 [==============================] - 9s 150us/step - loss: 0.0370 - acc: 0.9873 - val_loss: 0.0718 - val_acc: 0.9821\n",
            "Epoch 45/50\n",
            "60000/60000 [==============================] - 9s 154us/step - loss: 0.0368 - acc: 0.9878 - val_loss: 0.0780 - val_acc: 0.9825\n",
            "Epoch 46/50\n",
            "60000/60000 [==============================] - 9s 155us/step - loss: 0.0366 - acc: 0.9874 - val_loss: 0.0726 - val_acc: 0.9817\n",
            "Epoch 47/50\n",
            "60000/60000 [==============================] - 9s 151us/step - loss: 0.0385 - acc: 0.9867 - val_loss: 0.0789 - val_acc: 0.9804\n",
            "Epoch 48/50\n",
            "60000/60000 [==============================] - 9s 153us/step - loss: 0.0345 - acc: 0.9884 - val_loss: 0.0766 - val_acc: 0.9808\n",
            "Epoch 49/50\n",
            "60000/60000 [==============================] - 9s 153us/step - loss: 0.0389 - acc: 0.9869 - val_loss: 0.0811 - val_acc: 0.9806\n",
            "Epoch 50/50\n",
            "60000/60000 [==============================] - 9s 150us/step - loss: 0.0349 - acc: 0.9883 - val_loss: 0.0722 - val_acc: 0.9825\n"
          ],
          "name": "stdout"
        },
        {
          "output_type": "execute_result",
          "data": {
            "text/plain": [
              "<keras.callbacks.History at 0x7feb7f7cccc0>"
            ]
          },
          "metadata": {
            "tags": []
          },
          "execution_count": 6
        }
      ]
    }
  ]
}